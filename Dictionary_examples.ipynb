{
 "cells": [
  {
   "cell_type": "markdown",
   "metadata": {},
   "source": [
    "## Print all name from following list"
   ]
  },
  {
   "cell_type": "code",
   "execution_count": 150,
   "metadata": {},
   "outputs": [
    {
     "name": "stdout",
     "output_type": "stream",
     "text": [
      "['viraj', 'vikash', 'abhi']\n"
     ]
    }
   ],
   "source": [
    "\n",
    "\n",
    "my_list = [{'id':101,'name':'viraj','dept':'it'},\n",
    "           {'id':102,'name':'vikash','dept':'accountst'},\n",
    "           {'id':101,'name':'abhi','dept':'it'}]\n",
    "\n",
    "\n",
    "print(list(map(lambda x: x['name'], my_list)))"
   ]
  },
  {
   "cell_type": "markdown",
   "metadata": {},
   "source": [
    "## Replace all  'id'  key from following dictionary with 'eid'"
   ]
  },
  {
   "cell_type": "code",
   "execution_count": 154,
   "metadata": {},
   "outputs": [
    {
     "ename": "TypeError",
     "evalue": "unhashable type: 'list'",
     "output_type": "error",
     "traceback": [
      "\u001b[0;31m---------------------------------------------------------------------------\u001b[0m",
      "\u001b[0;31mTypeError\u001b[0m                                 Traceback (most recent call last)",
      "\u001b[0;32m<ipython-input-154-7ad74ad22a04>\u001b[0m in \u001b[0;36m<module>\u001b[0;34m\u001b[0m\n\u001b[1;32m      9\u001b[0m \u001b[0;34m\u001b[0m\u001b[0m\n\u001b[1;32m     10\u001b[0m \u001b[0;34m\u001b[0m\u001b[0m\n\u001b[0;32m---> 11\u001b[0;31m \u001b[0mprint\u001b[0m\u001b[0;34m(\u001b[0m\u001b[0mlist\u001b[0m\u001b[0;34m(\u001b[0m\u001b[0mmap\u001b[0m\u001b[0;34m(\u001b[0m\u001b[0mreplaceKey\u001b[0m\u001b[0;34m,\u001b[0m\u001b[0mmy_list\u001b[0m\u001b[0;34m)\u001b[0m\u001b[0;34m)\u001b[0m\u001b[0;34m)\u001b[0m\u001b[0;34m\u001b[0m\u001b[0;34m\u001b[0m\u001b[0m\n\u001b[0m",
      "\u001b[0;32m<ipython-input-154-7ad74ad22a04>\u001b[0m in \u001b[0;36mreplaceKey\u001b[0;34m(dict_para)\u001b[0m\n\u001b[1;32m      1\u001b[0m \u001b[0;32mdef\u001b[0m \u001b[0mreplaceKey\u001b[0m\u001b[0;34m(\u001b[0m\u001b[0mdict_para\u001b[0m\u001b[0;34m)\u001b[0m\u001b[0;34m:\u001b[0m\u001b[0;34m\u001b[0m\u001b[0;34m\u001b[0m\u001b[0m\n\u001b[0;32m----> 2\u001b[0;31m     \u001b[0mdict_para\u001b[0m\u001b[0;34m[\u001b[0m\u001b[0;34m'eid'\u001b[0m\u001b[0;34m]\u001b[0m \u001b[0;34m=\u001b[0m \u001b[0mdict_para\u001b[0m\u001b[0;34m.\u001b[0m\u001b[0mpop\u001b[0m\u001b[0;34m(\u001b[0m\u001b[0;34m[\u001b[0m\u001b[0;34m'id'\u001b[0m\u001b[0;34m]\u001b[0m\u001b[0;34m)\u001b[0m\u001b[0;34m\u001b[0m\u001b[0;34m\u001b[0m\u001b[0m\n\u001b[0m\u001b[1;32m      3\u001b[0m     \u001b[0;31m#del dict_para['id']\u001b[0m\u001b[0;34m\u001b[0m\u001b[0;34m\u001b[0m\u001b[0;34m\u001b[0m\u001b[0m\n\u001b[1;32m      4\u001b[0m     \u001b[0;32mreturn\u001b[0m \u001b[0mdict_para\u001b[0m\u001b[0;34m\u001b[0m\u001b[0;34m\u001b[0m\u001b[0m\n\u001b[1;32m      5\u001b[0m \u001b[0;34m\u001b[0m\u001b[0m\n",
      "\u001b[0;31mTypeError\u001b[0m: unhashable type: 'list'"
     ]
    }
   ],
   "source": [
    "def replaceKey(dict_para):\n",
    "    dict_para['eid'] = dict_para.pop('id')\n",
    "    #del dict_para['id']\n",
    "    return dict_para\n",
    "\n",
    "my_list = [{'id':101,'name':'viraj','dept':'it'},\n",
    "           {'id':102,'name':'vikash','dept':'accountst'},\n",
    "            {'id':101,'name':'abhi','dept':'it'}]\n",
    "\n",
    "\n",
    "print(list(map(replaceKey,my_list)))"
   ]
  },
  {
   "cell_type": "markdown",
   "metadata": {},
   "source": [
    " ## Count the eid key in dictionary. Count the id key in dictionary"
   ]
  },
  {
   "cell_type": "code",
   "execution_count": 152,
   "metadata": {},
   "outputs": [
    {
     "name": "stdout",
     "output_type": "stream",
     "text": [
      "[['eid' 'id']\n",
      " ['1' '3']]\n"
     ]
    }
   ],
   "source": [
    "import numpy as np\n",
    "\n",
    "my_list = [{'eid':101,'name':'viraj','dept':'it'}, \n",
    "           {'id':102,'name':'vikash','dept':'accountst'},\n",
    "           {'id':104,'name':'abhi','dept':'it'},\n",
    "           {'id':103,'name':'ganesh','dept':'it'}]\n",
    "\n",
    "unique, counts = np.unique((list(map(lambda x: list(x.keys())[0],my_list))), return_counts=True)\n",
    "print(np.asarray((unique, counts)))"
   ]
  },
  {
   "cell_type": "markdown",
   "metadata": {},
   "source": [
    "## Find all duplicate id's with there name"
   ]
  },
  {
   "cell_type": "code",
   "execution_count": 153,
   "metadata": {},
   "outputs": [
    {
     "name": "stdout",
     "output_type": "stream",
     "text": [
      "{101: 1, 'viraj': 1, 'it': 4, 102: 4, 'vikash': 4, 'accountst': 4, 104: 2, 'abhi': 2, 103: 1, 'ganesh': 1}\n"
     ]
    }
   ],
   "source": [
    "from collections import Counter\n",
    "\n",
    "my_list = [{'eid':101,'name':'viraj','dept':'it'}, {'id':102,'name':'vikash','dept':'accountst'},\n",
    "           {'id':104,'name':'abhi','dept':'it'},\n",
    "           {'id':104,'name':'abhi','dept':'it'},\n",
    "           {'id':102,'name':'vikash','dept':'accountst'},\n",
    "           {'id':102,'name':'vikash','dept':'accountst'},{'id':102,'name':'vikash','dept':'accountst'},\n",
    "           {'id':103,'name':'ganesh','dept':'it'}]\n",
    "\n",
    "\n",
    "frequency_dict = {}\n",
    "for value in my_list:\n",
    "    for item in list(value.values()):\n",
    "        if (item in frequency_dict): \n",
    "            frequency_dict[item] += 1\n",
    "        else: \n",
    "            frequency_dict[item] = 1\n",
    "    \n",
    "print(frequency_dict)"
   ]
  },
  {
   "cell_type": "code",
   "execution_count": null,
   "metadata": {},
   "outputs": [],
   "source": []
  }
 ],
 "metadata": {
  "kernelspec": {
   "display_name": "Python 3",
   "language": "python",
   "name": "python3"
  },
  "language_info": {
   "codemirror_mode": {
    "name": "ipython",
    "version": 3
   },
   "file_extension": ".py",
   "mimetype": "text/x-python",
   "name": "python",
   "nbconvert_exporter": "python",
   "pygments_lexer": "ipython3",
   "version": "3.7.4"
  }
 },
 "nbformat": 4,
 "nbformat_minor": 2
}
