{
 "cells": [
  {
   "cell_type": "markdown",
   "metadata": {},
   "source": [
    "## Print all name from following list"
   ]
  },
  {
   "cell_type": "code",
   "execution_count": 159,
   "metadata": {},
   "outputs": [
    {
     "name": "stdout",
     "output_type": "stream",
     "text": [
      "['viraj', 'vikash', 'abhi']\n"
     ]
    }
   ],
   "source": [
    "\n",
    "\n",
    "my_list = [{'id':101,'name':'viraj','dept':'it'},\n",
    "           {'id':102,'name':'vikash','dept':'accountst'},\n",
    "           {'id':101,'name':'abhi','dept':'it'}]\n",
    "\n",
    "\n",
    "print(list(map(lambda x: x['name'], my_list)))"
   ]
  },
  {
   "cell_type": "markdown",
   "metadata": {},
   "source": [
    "## Replace all  'id'  key from following dictionary with 'eid'"
   ]
  },
  {
   "cell_type": "code",
   "execution_count": 160,
   "metadata": {},
   "outputs": [
    {
     "name": "stdout",
     "output_type": "stream",
     "text": [
      "[{'name': 'viraj', 'dept': 'it', 'eid': 101}, {'name': 'vikash', 'dept': 'accountst', 'eid': 102}, {'name': 'abhi', 'dept': 'it', 'eid': 101}]\n"
     ]
    }
   ],
   "source": [
    "def replaceKey(dict_para):\n",
    "    #dict_para['eid'] = dict_para['id']\n",
    "    dict_para['eid'] = dict_para.pop('id')\n",
    "    #del dict_para['id']\n",
    "    return dict_para\n",
    "\n",
    "my_list = [{'id':101,'name':'viraj','dept':'it'},\n",
    "           {'id':102,'name':'vikash','dept':'accountst'},\n",
    "            {'id':101,'name':'abhi','dept':'it'}]\n",
    "\n",
    "print(list(map(replaceKey,my_list)))"
   ]
  },
  {
   "cell_type": "markdown",
   "metadata": {},
   "source": [
    " ## Count the eid key in dictionary. Count the id key in dictionary"
   ]
  },
  {
   "cell_type": "code",
   "execution_count": 161,
   "metadata": {},
   "outputs": [
    {
     "name": "stdout",
     "output_type": "stream",
     "text": [
      "[['eid' 'id']\n",
      " ['1' '3']]\n"
     ]
    }
   ],
   "source": [
    "import numpy as np\n",
    "\n",
    "my_list = [{'eid':101,'name':'viraj','dept':'it'}, \n",
    "           {'id':102,'name':'vikash','dept':'accountst'},\n",
    "           {'id':104,'name':'abhi','dept':'it'},\n",
    "           {'id':103,'name':'ganesh','dept':'it'}]\n",
    "\n",
    "unique, counts = np.unique((list(map(lambda x: list(x.keys())[0],my_list))), return_counts=True)\n",
    "print(np.asarray((unique, counts)))"
   ]
  },
  {
   "cell_type": "markdown",
   "metadata": {},
   "source": [
    "## Find all duplicate id's with there name"
   ]
  },
  {
   "cell_type": "code",
   "execution_count": 162,
   "metadata": {},
   "outputs": [
    {
     "name": "stdout",
     "output_type": "stream",
     "text": [
      "{101: 1, 'viraj': 1, 'it': 4, 102: 4, 'vikash': 4, 'accountst': 4, 104: 2, 'abhi': 2, 103: 1, 'ganesh': 1}\n"
     ]
    }
   ],
   "source": [
    "from collections import Counter\n",
    "\n",
    "my_list = [{'eid':101,'name':'viraj','dept':'it'}, {'id':102,'name':'vikash','dept':'accountst'},\n",
    "           {'id':104,'name':'abhi','dept':'it'},\n",
    "           {'id':104,'name':'abhi','dept':'it'},\n",
    "           {'id':102,'name':'vikash','dept':'accountst'},\n",
    "           {'id':102,'name':'vikash','dept':'accountst'},{'id':102,'name':'vikash','dept':'accountst'},\n",
    "           {'id':103,'name':'ganesh','dept':'it'}]\n",
    "\n",
    "\n",
    "frequency_dict = {}\n",
    "for value in my_list:\n",
    "    for item in list(value.values()):\n",
    "        if (item in frequency_dict): \n",
    "            frequency_dict[item] += 1\n",
    "        else: \n",
    "            frequency_dict[item] = 1\n",
    "    \n",
    "print(frequency_dict)"
   ]
  },
  {
   "cell_type": "code",
   "execution_count": null,
   "metadata": {},
   "outputs": [],
   "source": []
  },
  {
   "cell_type": "code",
   "execution_count": null,
   "metadata": {},
   "outputs": [],
   "source": []
  }
 ],
 "metadata": {
  "kernelspec": {
   "display_name": "Python 3",
   "language": "python",
   "name": "python3"
  },
  "language_info": {
   "codemirror_mode": {
    "name": "ipython",
    "version": 3
   },
   "file_extension": ".py",
   "mimetype": "text/x-python",
   "name": "python",
   "nbconvert_exporter": "python",
   "pygments_lexer": "ipython3",
   "version": "3.7.4"
  }
 },
 "nbformat": 4,
 "nbformat_minor": 2
}
